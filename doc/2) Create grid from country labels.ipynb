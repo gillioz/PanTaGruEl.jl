{
 "cells": [
  {
   "cell_type": "code",
   "execution_count": null,
   "id": "e9f92d2a",
   "metadata": {},
   "outputs": [],
   "source": [
    "include(\"../src/PanTaGruEl.jl\")\n",
    "using .PanTaGruEl"
   ]
  },
  {
   "cell_type": "code",
   "execution_count": null,
   "id": "e87e4cd1",
   "metadata": {},
   "outputs": [],
   "source": [
    "source_folder = \"../../sources\"\n",
    "out_folder = \"../../tmp\""
   ]
  },
  {
   "cell_type": "code",
   "execution_count": null,
   "id": "4bb45529",
   "metadata": {},
   "outputs": [],
   "source": [
    "grid_data = load_gridkit_data(source_folder)\n",
    "retreave_country!(source_folder, grid_data, 50)\n",
    "differentiate_line_and_dc_cable!(grid_data)\n",
    "remove_gen_duplicate!(grid_data)\n",
    "assign_simple_type_to_gen!(grid_data)\n",
    "differentiate_gen_and_renew!(grid_data)\n",
    "discard_non_trans!(grid_data)"
   ]
  },
  {
   "cell_type": "code",
   "execution_count": null,
   "id": "b400d15d",
   "metadata": {},
   "outputs": [],
   "source": [
    "country = [\"CH\"]\n",
    "scenario = extract_grid_from_country(grid_data, country, start = \"name\" => \"Gösgen\")"
   ]
  },
  {
   "cell_type": "code",
   "execution_count": null,
   "id": "828019b2",
   "metadata": {},
   "outputs": [],
   "source": [
    "get_line_parameters!(scenario)\n",
    "get_trans_parameters!(scenario)\n",
    "\n",
    "remove_neg_gen!(scenario)\n",
    "large_gen_on_380!(scenario)\n",
    "allow_full_gen!(scenario)\n",
    "assign_inertia_constant!(scenario)\n",
    "assign_marginal_cost!(scenario)\n",
    "distribute_population!(source_folder, scenario, region=\"Europe\")\n",
    "assign_demand!(scenario, national_demand(\"winter_peak\"))\n",
    "assign_bus_type!(scenario)"
   ]
  },
  {
   "cell_type": "code",
   "execution_count": null,
   "id": "93f8782c",
   "metadata": {},
   "outputs": [],
   "source": [
    "export_csv(\"$out_folder/Swizterland\", scenario)"
   ]
  },
  {
   "cell_type": "code",
   "execution_count": null,
   "id": "bed8da36",
   "metadata": {},
   "outputs": [],
   "source": []
  }
 ],
 "metadata": {
  "kernelspec": {
   "display_name": "Julia 1.8.0",
   "language": "julia",
   "name": "julia-1.8"
  },
  "language_info": {
   "file_extension": ".jl",
   "mimetype": "application/julia",
   "name": "julia",
   "version": "1.8.0"
  }
 },
 "nbformat": 4,
 "nbformat_minor": 5
}
