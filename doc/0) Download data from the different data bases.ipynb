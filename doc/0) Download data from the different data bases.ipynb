{
 "cells": [
  {
   "cell_type": "code",
   "execution_count": null,
   "id": "e9f92d2a",
   "metadata": {},
   "outputs": [],
   "source": [
    "include(\"../src/PanTaGruEl.jl\")\n",
    "using .PanTaGruEl"
   ]
  },
  {
   "cell_type": "code",
   "execution_count": null,
   "id": "e87e4cd1",
   "metadata": {},
   "outputs": [],
   "source": [
    "source_folder = \"../../sources\" # You can change this path, but please not to the git repo xoxo"
   ]
  },
  {
   "cell_type": "code",
   "execution_count": null,
   "id": "4bb45529",
   "metadata": {},
   "outputs": [],
   "source": [
    "download_data(source_folder)"
   ]
  },
  {
   "cell_type": "code",
   "execution_count": null,
   "id": "0569fcfa",
   "metadata": {},
   "outputs": [],
   "source": []
  }
 ],
 "metadata": {
  "kernelspec": {
   "display_name": "Julia 1.8.0",
   "language": "julia",
   "name": "julia-1.8"
  },
  "language_info": {
   "file_extension": ".jl",
   "mimetype": "application/julia",
   "name": "julia",
   "version": "1.8.0"
  }
 },
 "nbformat": 4,
 "nbformat_minor": 5
}
