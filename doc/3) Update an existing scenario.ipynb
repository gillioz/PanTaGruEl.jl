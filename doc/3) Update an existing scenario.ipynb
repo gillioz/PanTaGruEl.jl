{
 "cells": [
  {
   "cell_type": "code",
   "execution_count": null,
   "id": "b1044705",
   "metadata": {},
   "outputs": [],
   "source": [
    "include(\"../src/PanTaGruEl.jl\")\n",
    "using .PanTaGruEl"
   ]
  },
  {
   "cell_type": "code",
   "execution_count": null,
   "id": "6468347e",
   "metadata": {},
   "outputs": [],
   "source": [
    "source_folder = \"../../sources\""
   ]
  },
  {
   "cell_type": "code",
   "execution_count": null,
   "id": "f2fcf9e3",
   "metadata": {},
   "outputs": [],
   "source": [
    "scenario = import_csv(\"Swizterland/\")"
   ]
  },
  {
   "cell_type": "code",
   "execution_count": null,
   "id": "a1b644d9",
   "metadata": {},
   "outputs": [],
   "source": [
    "nd = PanTaGruEl.retreave_entsoe_national_demand(source_folder, \"2021-01-31 01:00:00\")\n",
    "assign_demand!(scenario, nd)"
   ]
  },
  {
   "cell_type": "code",
   "execution_count": null,
   "id": "9d613ab5",
   "metadata": {},
   "outputs": [],
   "source": []
  }
 ],
 "metadata": {
  "kernelspec": {
   "display_name": "Julia 1.8.0",
   "language": "julia",
   "name": "julia-1.8"
  },
  "language_info": {
   "file_extension": ".jl",
   "mimetype": "application/julia",
   "name": "julia",
   "version": "1.8.0"
  }
 },
 "nbformat": 4,
 "nbformat_minor": 5
}
