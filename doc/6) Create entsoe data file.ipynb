{
 "cells": [
  {
   "cell_type": "code",
   "execution_count": 1,
   "metadata": {},
   "outputs": [
    {
     "name": "stderr",
     "output_type": "stream",
     "text": [
      "\u001b[36m\u001b[1m[ \u001b[22m\u001b[39m\u001b[36m\u001b[1mInfo: \u001b[22m\u001b[39mPrecompiling PanTaGruEl [62397bf7-b360-4750-b643-3b7e4fbfe5ff]\n"
     ]
    },
    {
     "name": "stdout",
     "output_type": "stream",
     "text": [
      "Set parameter Username\n",
      "Academic license - for non-commercial use only - expires 2023-08-24\n",
      "Set parameter Username\n",
      "Academic license - for non-commercial use only - expires 2023-08-24\n"
     ]
    }
   ],
   "source": [
    "using PanTaGruEl"
   ]
  },
  {
   "cell_type": "code",
   "execution_count": 3,
   "metadata": {},
   "outputs": [],
   "source": [
    "country = [\"AL\", \"AT\", \"BA\", \"BE\", \"BG\", \"CH\", \"CZ\", \"DE\", \"ES\",\n",
    "    \"FR\", \"GR\", \"HR\", \"HU\", \"IL\", \"IT\", \"LU\", \"ME\", \"MK\",\n",
    "    \"NL\", \"PL\", \"PT\", \"RO\", \"RS\", \"SA\", \"SI\", \"SK\", \"DK\"];"
   ]
  },
  {
   "cell_type": "code",
   "execution_count": 4,
   "metadata": {},
   "outputs": [
    {
     "data": {
      "text/plain": [
       "\"entsoe\""
      ]
     },
     "execution_count": 4,
     "metadata": {},
     "output_type": "execute_result"
    }
   ],
   "source": [
    "source_folder = \"../sources\"\n",
    "output_folder = \"../tmp/Europe\"\n",
    "file_name = \"entsoe\""
   ]
  },
  {
   "cell_type": "code",
   "execution_count": 5,
   "metadata": {},
   "outputs": [
    {
     "name": "stdout",
     "output_type": "stream",
     "text": [
      "Handling file 1\n",
      "Handling file 2\n",
      "Handling file 3\n",
      "Handling file 4\n",
      "Handling file 5\n",
      "Handling file 6\n",
      "Handling file 7\n",
      "Handling file 8\n",
      "Handling file 9\n",
      "Handling file 10\n",
      "Handling file 11\n",
      "Handling file 12\n",
      "Handling file 13\n",
      "Handling file 14\n",
      "Handling file 15\n",
      "Handling file 16\n",
      "Handling file 17\n",
      "Handling file 18\n",
      "Handling file 19\n",
      "Handling file 20\n",
      "Handling file 21\n",
      "Handling file 22\n",
      "Handling file 23\n",
      "Handling file 24\n",
      "Handling file 25\n",
      "Handling file 26\n",
      "Handling file 27\n",
      "Handling file 28\n",
      "Handling file 29\n",
      "Handling file 30\n",
      "Handling file 31\n",
      "Handling file 32\n",
      "Handling file 33\n",
      "Handling file 34\n",
      "Handling file 35\n",
      "Handling file 36\n",
      "Handling file 37\n",
      "Handling file 38\n",
      "Handling file 39\n",
      "Handling file 40\n",
      "Handling file 41\n",
      "Handling file 42\n",
      "Handling file 43\n",
      "Handling file 44\n",
      "Handling file 45\n",
      "Handling file 46\n",
      "Handling file 47\n",
      "Handling file 48\n",
      "Handling file 49\n",
      "Handling file 50\n",
      "Handling file 51\n",
      "Handling file 52\n",
      "Handling file 53\n",
      "Handling file 54\n",
      "Handling file 55\n",
      "Handling file 56\n",
      "Handling file 57\n",
      "Handling file 58\n",
      "Handling file 59\n",
      "Handling file 60\n",
      "Handling file 61\n",
      "Handling file 62\n",
      "Handling file 63\n",
      "Handling file 64\n",
      "Handling file 65\n",
      "Handling file 66\n",
      "Handling file 67\n",
      "Handling file 68\n",
      "Handling file 69\n",
      "Handling file 70\n",
      "Handling file 71\n",
      "Handling file 72\n",
      "Handling file 73\n",
      "Handling file 74\n",
      "Handling file 75\n",
      "Handling file 76\n",
      "Handling file 77\n",
      "Handling file 78\n",
      "Handling file 79\n",
      "Handling file 80\n",
      "Handling file 81\n",
      "Handling file 82\n",
      "Handling file 83\n",
      "Handling file 84\n",
      "Handling file 85\n",
      "Handling file 86\n",
      "Handling file 87\n",
      "Handling file 88\n",
      "Handling file 89\n",
      "Handling file 90\n",
      "Handling file 91\n",
      "Handling file 92\n",
      "Handling file 93\n",
      "Handling file 94\n",
      "Handling file 95\n",
      "Handling file 96\n",
      "Handling file 97\n",
      "Handling file 98\n",
      "Handling file 99\n",
      "Handling file 100\n"
     ]
    },
    {
     "data": {
      "text/plain": [
       "\"../tmp/Europe/entsoe.csv\""
      ]
     },
     "execution_count": 5,
     "metadata": {},
     "output_type": "execute_result"
    }
   ],
   "source": [
    "create_entsoe_list(source_folder, output_folder, file_name, country)"
   ]
  },
  {
   "cell_type": "code",
   "execution_count": null,
   "metadata": {},
   "outputs": [],
   "source": []
  }
 ],
 "metadata": {
  "kernelspec": {
   "display_name": "Julia 1.8.5",
   "language": "julia",
   "name": "julia-1.8"
  },
  "language_info": {
   "file_extension": ".jl",
   "mimetype": "application/julia",
   "name": "julia",
   "version": "1.8.5"
  },
  "orig_nbformat": 4
 },
 "nbformat": 4,
 "nbformat_minor": 2
}
