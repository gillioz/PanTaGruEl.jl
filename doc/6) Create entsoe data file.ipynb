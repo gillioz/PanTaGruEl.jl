{
 "cells": [
  {
   "cell_type": "code",
   "execution_count": null,
   "metadata": {},
   "outputs": [],
   "source": [
    "using PanTaGruEl\n",
    "using Impute\n",
    "using DataFrames"
   ]
  },
  {
   "cell_type": "code",
   "execution_count": null,
   "metadata": {},
   "outputs": [],
   "source": [
    "country = [\"AL\", \"AT\", \"BA\", \"BE\", \"BG\", \"CH\", \"CZ\", \"DE\", \"ES\",\n",
    "    \"FR\", \"GR\", \"HR\", \"HU\", \"IT\", \"LU\", \"ME\", \"MK\",\n",
    "    \"NL\", \"PL\", \"PT\", \"RO\", \"RS\", \"SI\", \"SK\", \"DK\"];"
   ]
  },
  {
   "cell_type": "code",
   "execution_count": null,
   "metadata": {},
   "outputs": [],
   "source": [
    "source_folder = \"../sources\""
   ]
  },
  {
   "cell_type": "code",
   "execution_count": null,
   "metadata": {},
   "outputs": [],
   "source": [
    "df = create_entsoe_list(source_folder, country)"
   ]
  },
  {
   "cell_type": "code",
   "execution_count": null,
   "metadata": {},
   "outputs": [],
   "source": [
    "# Turn zeros into missing to use impute to fill missing data\n",
    "allowmissing!(df)\n",
    "for name in names(df)\n",
    "    if name == \"Date\"\n",
    "        continue\n",
    "    end\n",
    "    df[iszero.(df[!, name]), name] .= missing\n",
    "    df[!, name] = (\n",
    "                Impute.impute(df[!, name],\n",
    "                              Impute.Interpolate(; limit=12)) |> \n",
    "                (x -> Impute.impute(x, Impute.LOCF(; limit=3))) |> \n",
    "                (x -> Impute.impute(x, Impute.NOCB(; limit=3))) |> \n",
    "                (x -> Impute.impute(x, Impute.Replace(; values=0.0))))\n",
    "end"
   ]
  },
  {
   "cell_type": "code",
   "execution_count": null,
   "metadata": {},
   "outputs": [],
   "source": [
    "# Show missing data\n",
    "for name in names(df)\n",
    "    if name == \"Date\"\n",
    "        continue\n",
    "    end\n",
    "    ct = count(iszero.(df[!,name]))\n",
    "    println(\"$name => $ct\")\n",
    "end"
   ]
  }
 ],
 "metadata": {
  "kernelspec": {
   "display_name": "Julia 1.8.5",
   "language": "julia",
   "name": "julia-1.8"
  },
  "language_info": {
   "file_extension": ".jl",
   "mimetype": "application/julia",
   "name": "julia",
   "version": "1.8.5"
  },
  "orig_nbformat": 4
 },
 "nbformat": 4,
 "nbformat_minor": 2
}
