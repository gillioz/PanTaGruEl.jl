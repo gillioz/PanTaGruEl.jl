{
 "cells": [
  {
   "cell_type": "code",
   "execution_count": null,
   "id": "d78fe895",
   "metadata": {},
   "outputs": [],
   "source": [
    "include(\"/home/laurent/github/PanTaGruEl.jl/src/PanTaGruEl.jl\")\n",
    "using .PanTaGruEl"
   ]
  },
  {
   "cell_type": "code",
   "execution_count": null,
   "id": "2ae8e6b6",
   "metadata": {},
   "outputs": [],
   "source": [
    "scenario_folder = \"../../tmp/Europe\"\n",
    "out_folder = \"../../tmp/Europe\""
   ]
  },
  {
   "cell_type": "code",
   "execution_count": null,
   "id": "2d1160c6",
   "metadata": {},
   "outputs": [],
   "source": [
    "scenario = PanTaGruEl.import_csv(scenario_folder);"
   ]
  },
  {
   "cell_type": "code",
   "execution_count": null,
   "id": "810986ee",
   "metadata": {},
   "outputs": [],
   "source": [
    "export_oats(\"$scenario_folder/uk_grid.xlsx\", scenario)\n",
    "export_pandapower(\"$scenario_folder/UK_grid.json\", scenario)\n",
    "export_matpower(\"$scenario_folder/uk_grid.m\", scenario, extended=false)"
   ]
  },
  {
   "cell_type": "code",
   "execution_count": null,
   "id": "0fb6e125",
   "metadata": {},
   "outputs": [],
   "source": []
  }
 ],
 "metadata": {
  "kernelspec": {
   "display_name": "Julia 1.8.0",
   "language": "julia",
   "name": "julia-1.8"
  },
  "language_info": {
   "file_extension": ".jl",
   "mimetype": "application/julia",
   "name": "julia",
   "version": "1.8.0"
  }
 },
 "nbformat": 4,
 "nbformat_minor": 5
}
