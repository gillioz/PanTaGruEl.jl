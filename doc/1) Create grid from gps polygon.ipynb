{
 "cells": [
  {
   "cell_type": "code",
   "execution_count": null,
   "id": "e9f92d2a",
   "metadata": {},
   "outputs": [],
   "source": [
    "include(\"../src/PanTaGruEl.jl\")\n",
    "using .PanTaGruEl"
   ]
  },
  {
   "cell_type": "code",
   "execution_count": null,
   "id": "e87e4cd1",
   "metadata": {},
   "outputs": [],
   "source": [
    "source_folder = \"../../sources\"\n",
    "out_folder = \"../../tmp\""
   ]
  },
  {
   "cell_type": "code",
   "execution_count": null,
   "id": "4bb45529",
   "metadata": {},
   "outputs": [],
   "source": [
    "grid_data = load_gridkit_data(source_folder)\n",
    "retrieve_country!(source_folder, grid_data, 50)\n",
    "differentiate_line_and_dc_cable!(grid_data)\n",
    "remove_gen_duplicate!(grid_data)\n",
    "assign_simple_type_to_gen!(grid_data)\n",
    "differentiate_gen_and_renew!(grid_data)\n",
    "discard_non_trans!(grid_data)"
   ]
  },
  {
   "cell_type": "code",
   "execution_count": null,
   "id": "b400d15d",
   "metadata": {},
   "outputs": [],
   "source": [
    "# right-clic on www.google.com/maps/, then left-clic on the coordinate.\n",
    "# Once done remove the commas\n",
    "coord = [\n",
    "    45.90286385783712 5.572825008659225\n",
    "    45.426841939579106 7.176828834217622\n",
    "    45.56545885448479 9.593820900127533\n",
    "    46.055555950977876 10.769357950365535\n",
    "    47.10514004941298 11.120920432679704\n",
    "    48.09775672503843 9.132395165855526\n",
    "    47.78128231239348 6.528635531216212\n",
    "    46.92536785165884 5.309153170688939\n",
    "]\n",
    "scenario = extract_grid_from_polygon(grid_data, coord, start = \"name\" => \"Gösgen\")"
   ]
  },
  {
   "cell_type": "code",
   "execution_count": null,
   "id": "828019b2",
   "metadata": {},
   "outputs": [],
   "source": [
    "get_line_parameters!(scenario)\n",
    "get_trans_parameters!(scenario)\n",
    "\n",
    "remove_neg_gen!(scenario)\n",
    "large_gen_on_380!(scenario)\n",
    "allow_full_gen!(scenario)\n",
    "assign_inertia_constant!(scenario)\n",
    "assign_marginal_cost!(scenario)\n",
    "distribute_population!(source_folder, scenario, region=\"Europe\")\n",
    "assign_active_demand!(scenario, national_demand(\"winter_peak\"))\n",
    "assign_bus_type!(scenario)"
   ]
  },
  {
   "cell_type": "code",
   "execution_count": null,
   "id": "e6497f10",
   "metadata": {},
   "outputs": [],
   "source": [
    "border = PanTaGruEl.get_borders(source_folder, 50)\n",
    "shape = [border[\"CH\"][1], border[\"FR\"][1], border[\"DE\"][1], border[\"IT\"][1], border[\"AT\"][1]]\n",
    "isdir(out_folder) ? nothing : mkdir(out_folder)\n",
    "create_map(\"$out_folder/switzerland.svg\", scenario, shape = shape)"
   ]
  },
  {
   "cell_type": "code",
   "execution_count": null,
   "id": "9eb4912b",
   "metadata": {},
   "outputs": [],
   "source": []
  }
 ],
 "metadata": {
  "kernelspec": {
   "display_name": "Julia 1.8.0",
   "language": "julia",
   "name": "julia-1.8"
  },
  "language_info": {
   "file_extension": ".jl",
   "mimetype": "application/julia",
   "name": "julia",
   "version": "1.8.0"
  }
 },
 "nbformat": 4,
 "nbformat_minor": 5
}
