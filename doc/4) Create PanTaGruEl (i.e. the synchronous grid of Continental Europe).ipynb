{
 "cells": [
  {
   "cell_type": "code",
   "execution_count": null,
   "id": "918ae045",
   "metadata": {},
   "outputs": [],
   "source": [
    "include(\"../src/PanTaGruEl.jl\")\n",
    "using .PanTaGruEl"
   ]
  },
  {
   "cell_type": "code",
   "execution_count": null,
   "id": "5600e448",
   "metadata": {},
   "outputs": [],
   "source": [
    "source_folder = \"../../sources\"\n",
    "out_folder = \"../../tmp\""
   ]
  },
  {
   "cell_type": "code",
   "execution_count": null,
   "id": "aab7f16b",
   "metadata": {},
   "outputs": [],
   "source": [
    "grid_data = load_gridkit_data(source_folder)\n",
    "retrieve_country!(source_folder, grid_data, 50)\n",
    "differentiate_line_and_dc_cable!(grid_data)\n",
    "remove_gen_duplicate!(grid_data)\n",
    "assign_simple_type_to_gen!(grid_data)\n",
    "differentiate_gen_and_renew!(grid_data)\n",
    "discard_non_trans!(grid_data)"
   ]
  },
  {
   "cell_type": "code",
   "execution_count": null,
   "id": "2b22e3bd",
   "metadata": {},
   "outputs": [],
   "source": [
    "country = [\"AL\", \"AT\", \"BA\", \"BE\", \"BG\", \"CH\", \"CZ\", \"DE\", \"ES\",\n",
    "    \"FR\", \"GR\", \"HR\", \"HU\", \"IL\", \"IT\", \"LU\", \"ME\", \"MK\",\n",
    "    \"NL\", \"PL\", \"PT\", \"RO\", \"RS\", \"SA\", \"SI\", \"SK\", \"DK\"]\n",
    "\n",
    "#append!(country,[\"TR\", \"UA\"]\n",
    "\n",
    "scenario = extract_grid_from_country(grid_data, country, start = \"country\" => \"CH\")\n",
    "\n",
    "get_line_parameters!(scenario)\n",
    "get_trans_parameters!(scenario)\n",
    "\n",
    "remove_neg_gen!(scenario)\n",
    "crosscheck_with_wri!(source_folder, scenario, dthres = 50)\n",
    "large_gen_on_380!(scenario)\n",
    "allow_full_gen!(scenario)\n",
    "assign_inertia_constant!(scenario)\n",
    "assign_marginal_cost!(scenario)\n",
    "distribute_population!(source_folder, scenario, region=\"Europe\")\n",
    "assign_active_demand!(scenario, national_demand(\"winter_peak\"))\n",
    "assign_bus_type!(scenario)"
   ]
  },
  {
   "cell_type": "code",
   "execution_count": null,
   "id": "ba35f05b",
   "metadata": {},
   "outputs": [],
   "source": [
    "println(\"Total gen: $(sum(scenario[\"gen\"].capacity)), Total demand: $(sum(scenario[\"demand\"].active))\")"
   ]
  },
  {
   "cell_type": "code",
   "execution_count": null,
   "id": "816a74ee",
   "metadata": {},
   "outputs": [],
   "source": [
    "add_french_renew!(source_folder, scenario)\n",
    "add_german_renew!(source_folder, scenario)"
   ]
  },
  {
   "cell_type": "code",
   "execution_count": null,
   "id": "4374ba33",
   "metadata": {},
   "outputs": [],
   "source": [
    "reinforce_network!(scenario)"
   ]
  },
  {
   "cell_type": "code",
   "execution_count": null,
   "id": "47d80a47",
   "metadata": {},
   "outputs": [],
   "source": [
    "export_csv(\"$out_folder/Europe\", scenario)\n",
    "export_matpower(\"$out_folder/Europe/europe.m\", scenario)"
   ]
  },
  {
   "cell_type": "code",
   "execution_count": null,
   "id": "719221c3",
   "metadata": {},
   "outputs": [],
   "source": []
  }
 ],
 "metadata": {
  "kernelspec": {
   "display_name": "Julia 1.7.3",
   "language": "julia",
   "name": "julia-1.7"
  },
  "language_info": {
   "file_extension": ".jl",
   "mimetype": "application/julia",
   "name": "julia",
   "version": "1.7.3"
  }
 },
 "nbformat": 4,
 "nbformat_minor": 5
}
